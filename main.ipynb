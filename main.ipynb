{
 "cells": [
  {
   "cell_type": "code",
   "execution_count": 1,
   "id": "57dea6eb",
   "metadata": {},
   "outputs": [],
   "source": [
    "# Importing the necessary libraries\n",
    "import numpy as np\n",
    "from bs4 import BeautifulSoup\n",
    "import re\n",
    "from tqdm import tqdm\n",
    "from pathlib import Path\n",
    "from langchain.text_splitter import RecursiveCharacterTextSplitter\n",
    "import chromadb\n",
    "from chromadb.utils import embedding_functions\n",
    "from sentence_transformers import SentenceTransformer\n",
    "import google.generativeai as genai"
   ]
  },
  {
   "cell_type": "code",
   "execution_count": 2,
   "id": "8a2ea01f",
   "metadata": {},
   "outputs": [],
   "source": [
    "# Defining the paths\n",
    "data_path = Path('data')\n",
    "cleaned_data_path = Path('cleaned_data')"
   ]
  },
  {
   "cell_type": "code",
   "execution_count": 5,
   "id": "3f5f424f",
   "metadata": {},
   "outputs": [
    {
     "data": {
      "text/plain": [
       "[WindowsPath('data/Beyond Good and Evil.html'),\n",
       " WindowsPath('data/ECCE HOMO.html'),\n",
       " WindowsPath('data/Human, All Too Human.html'),\n",
       " WindowsPath('data/The Antichrist.html'),\n",
       " WindowsPath('data/The Birth of Tragedy.html'),\n",
       " WindowsPath('data/The Genealogy of Morals.html'),\n",
       " WindowsPath('data/Thus Spake Zarathustra.html')]"
      ]
     },
     "execution_count": 5,
     "metadata": {},
     "output_type": "execute_result"
    }
   ],
   "source": [
    "# All the files in the data directory\n",
    "files = list(data_path.glob(\"*.html\"))\n",
    "files"
   ]
  },
  {
   "cell_type": "code",
   "execution_count": 36,
   "id": "501eee2c",
   "metadata": {},
   "outputs": [],
   "source": [
    "# Function to process, clean and save the files to the cleaned_data folder\n",
    "def clean_data(files):\n",
    "    for file in files:\n",
    "        raw_data = file.read_text(encoding='utf-8', errors='ignore')\n",
    "        soup = BeautifulSoup(raw_data, 'lxml')\n",
    "        text_data = soup.get_text(separator=\" \", strip=True)\n",
    "        cleaned_data = re.sub(r\"s\\+\", \" \", text_data)\n",
    "        cleaned_data = re.sub(r\"\\b(Pg|Page)\\.?\\s*\\d+\\b\", \"\", cleaned_data, flags=re.IGNORECASE)\n",
    "        cleaned_data = re.sub(r\"\\n      \", \" \", cleaned_data)\n",
    "        cleaned_data = cleaned_data.strip()\n",
    "        \n",
    "        path_object = cleaned_data_path/f\"{file.stem}.txt\"\n",
    "        path_object.write_text(cleaned_data, encoding='utf-8')\n",
    "        \n",
    "        print(f\"Processed {file.name} -> Saved as {path_object.name} -> {len(cleaned_data.strip())}\")"
   ]
  },
  {
   "cell_type": "code",
   "execution_count": 37,
   "id": "e840ec46",
   "metadata": {},
   "outputs": [
    {
     "name": "stdout",
     "output_type": "stream",
     "text": [
      "Processed Beyond Good and Evil.html -> Saved as Beyond Good and Evil.txt -> 400092\n",
      "Processed ECCE HOMO.html -> Saved as ECCE HOMO.txt -> 288130\n",
      "Processed Human, All Too Human.html -> Saved as Human, All Too Human.txt -> 238862\n",
      "Processed The Antichrist.html -> Saved as The Antichrist.txt -> 219159\n",
      "Processed The Birth of Tragedy.html -> Saved as The Birth of Tragedy.txt -> 345822\n",
      "Processed The Genealogy of Morals.html -> Saved as The Genealogy of Morals.txt -> 350470\n",
      "Processed Thus Spake Zarathustra.html -> Saved as Thus Spake Zarathustra.txt -> 653509\n"
     ]
    }
   ],
   "source": [
    "# Calling the clean_data function\n",
    "clean_data(files)"
   ]
  },
  {
   "cell_type": "code",
   "execution_count": 13,
   "id": "21d673df",
   "metadata": {},
   "outputs": [],
   "source": [
    "# Combining all cleaned text files into a single file\n",
    "document = ''\n",
    "\n",
    "for file in list(cleaned_data_path.glob(\"*.txt\")):\n",
    "    document += f\"Start of {file.stem}  \"\n",
    "    document += file.read_text(encoding='utf-8', errors='ignore')\n",
    "    document += f\"End of {file.stem}\""
   ]
  },
  {
   "cell_type": "code",
   "execution_count": 24,
   "id": "a640bcb0",
   "metadata": {},
   "outputs": [
    {
     "data": {
      "text/plain": [
       "424339"
      ]
     },
     "execution_count": 24,
     "metadata": {},
     "output_type": "execute_result"
    }
   ],
   "source": [
    "# Number of words in the combined file\n",
    "len(document.split())"
   ]
  },
  {
   "cell_type": "code",
   "execution_count": 25,
   "id": "7f08e900",
   "metadata": {},
   "outputs": [
    {
     "data": {
      "text/plain": [
       "2568336"
      ]
     },
     "execution_count": 25,
     "metadata": {},
     "output_type": "execute_result"
    }
   ],
   "source": [
    "# Adding the combined file to the cleaned_data folder\n",
    "kb_path = cleaned_data_path/'knowledge_base.txt'\n",
    "kb_path.write_text(document, encoding='utf-8')"
   ]
  },
  {
   "cell_type": "code",
   "execution_count": 26,
   "id": "41555570",
   "metadata": {},
   "outputs": [],
   "source": [
    "# Initializaing the text splitter\n",
    "text_splitter = RecursiveCharacterTextSplitter(\n",
    "    chunk_size=1000,\n",
    "    chunk_overlap=200,\n",
    "    separators=['\\n\\n', '\\n', ' ', '.', '']\n",
    ")"
   ]
  },
  {
   "cell_type": "code",
   "execution_count": 33,
   "id": "9b6dd137",
   "metadata": {},
   "outputs": [],
   "source": [
    "knowledge_base_path = Path(r\"cleaned_data/knowledge_base.txt\")"
   ]
  },
  {
   "cell_type": "code",
   "execution_count": 35,
   "id": "b5387dfb",
   "metadata": {},
   "outputs": [
    {
     "data": {
      "text/plain": [
       "'TER IV. APOPHTHEGMS AND INTERLUDES CHAPTER V. THE NATURAL HISTORY OF MORALS CHAPTER VI. WE SCHOLARS CHAPTER VII. OUR VIRTUES CHAPTER VIII. PEOPLES AND COUNTRIES CHAPTER IX. WHAT IS NOBLE? FROM THE HEIGHTS PREFACE SUPPOSING that Truth is a woman—what then? Is there not ground for\\n      suspecting that all philosophers, in so far as they have been dogmatists,\\n      have failed to understand women—that the terrible seriousness and\\n      clumsy importunity with which they have usually paid their addresses to\\n      Truth, have been unskilled and unseemly methods for winning a woman?\\n      Certainly she has never allowed herself to be won; and at present every\\n      kind of dogma stands with sad and discouraged mien—IF, indeed, it\\n      stands at all! For there are scoffers who maintain that it has fallen,\\n      that all dogma lies on the ground—nay more, that it is at its last\\n      gasp. But to speak seriously, there are good grounds for hoping that all\\n      dogmatizing in philosophy, wha'"
      ]
     },
     "execution_count": 35,
     "metadata": {},
     "output_type": "execute_result"
    }
   ],
   "source": [
    "knowledge_base_path.read_text(encoding='utf-8')[2000:3000]"
   ]
  },
  {
   "cell_type": "code",
   "execution_count": null,
   "id": "98472735",
   "metadata": {},
   "outputs": [],
   "source": [
    "chunks = text_splitter.split_text()"
   ]
  },
  {
   "cell_type": "code",
   "execution_count": 32,
   "id": "9e787663",
   "metadata": {},
   "outputs": [
    {
     "data": {
      "text/plain": [
       "'ainst this error has fostered. It\\n      amounted to the very inversion of truth, and the denial of the PERSPECTIVE—the\\n      fundamental condition—of life, to speak of Spirit and the Good as\\n      Plato spoke of them; indeed one might ask, as a physician: \"How did such a\\n      malady attack that finest product of antiquity, Plato? Had the wicked\\n      Socrates really corrupted him? Was Socrates after all a corrupter of\\n      youths, and deserved his hemlock?\" But the struggle against Plato, or—to\\n      speak plainer, and for the \"people\"—the struggle against the\\n      ecclesiastical oppression of millenniums of Christianity (FOR CHRISTIANITY\\n      IS PLATONISM FOR THE \"PEOPLE\"), produced in Europe a magnificent tension\\n      of soul, such as had not existed anywhere previously; with such a tensely\\n      strained bow one can now aim at the furthest goals. As a matter of fact,\\n      the European feels this tension as a state of distress, and twice attempts\\n      have been made in grand s'"
      ]
     },
     "execution_count": 32,
     "metadata": {},
     "output_type": "execute_result"
    }
   ],
   "source": [
    "(cleaned_data_path/'knowledge_base.txt').read_text(encoding='utf-8', errors='ignore')[5000:6000]"
   ]
  },
  {
   "cell_type": "code",
   "execution_count": null,
   "id": "1fdbd862",
   "metadata": {},
   "outputs": [],
   "source": []
  },
  {
   "cell_type": "code",
   "execution_count": null,
   "id": "c5555815",
   "metadata": {},
   "outputs": [],
   "source": []
  },
  {
   "cell_type": "code",
   "execution_count": null,
   "id": "48d144e8",
   "metadata": {},
   "outputs": [],
   "source": []
  },
  {
   "cell_type": "code",
   "execution_count": null,
   "id": "df860dce",
   "metadata": {},
   "outputs": [],
   "source": []
  },
  {
   "cell_type": "code",
   "execution_count": null,
   "id": "75904fb0",
   "metadata": {},
   "outputs": [],
   "source": []
  },
  {
   "cell_type": "code",
   "execution_count": null,
   "id": "6f58d98d",
   "metadata": {},
   "outputs": [],
   "source": []
  },
  {
   "cell_type": "code",
   "execution_count": null,
   "id": "e396b823",
   "metadata": {},
   "outputs": [],
   "source": []
  },
  {
   "cell_type": "code",
   "execution_count": null,
   "id": "a86a023d",
   "metadata": {},
   "outputs": [],
   "source": []
  },
  {
   "cell_type": "code",
   "execution_count": null,
   "id": "922fbe5b",
   "metadata": {},
   "outputs": [],
   "source": []
  }
 ],
 "metadata": {
  "kernelspec": {
   "display_name": "Python 3",
   "language": "python",
   "name": "python3"
  },
  "language_info": {
   "codemirror_mode": {
    "name": "ipython",
    "version": 3
   },
   "file_extension": ".py",
   "mimetype": "text/x-python",
   "name": "python",
   "nbconvert_exporter": "python",
   "pygments_lexer": "ipython3",
   "version": "3.10.11"
  }
 },
 "nbformat": 4,
 "nbformat_minor": 5
}
