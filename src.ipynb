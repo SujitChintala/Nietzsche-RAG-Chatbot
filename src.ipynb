{
 "cells": [
  {
   "cell_type": "code",
   "execution_count": 54,
   "id": "c7d5b19e",
   "metadata": {},
   "outputs": [],
   "source": [
    "import pandas as pd\n",
    "import numpy as np\n",
    "from bs4 import BeautifulSoup\n",
    "import re\n",
    "from pathlib import Path\n",
    "from tqdm import tqdm"
   ]
  },
  {
   "cell_type": "code",
   "execution_count": 7,
   "id": "ab78298f",
   "metadata": {},
   "outputs": [],
   "source": [
    "data_path = Path(r\"C:\\Users\\HI\\OneDrive\\Documents\\GitHub\\rag\\books\")\n",
    "cleaned_path = Path(r\"C:\\Users\\HI\\OneDrive\\Documents\\GitHub\\rag\\cleaned_data\")"
   ]
  },
  {
   "cell_type": "code",
   "execution_count": 9,
   "id": "44caf772",
   "metadata": {},
   "outputs": [
    {
     "data": {
      "text/plain": [
       "[WindowsPath('C:/Users/HI/OneDrive/Documents/GitHub/rag/books/Beyond Good and Evil.html'),\n",
       " WindowsPath('C:/Users/HI/OneDrive/Documents/GitHub/rag/books/ECCE HOMO.html'),\n",
       " WindowsPath('C:/Users/HI/OneDrive/Documents/GitHub/rag/books/Human, All Too Human.html'),\n",
       " WindowsPath('C:/Users/HI/OneDrive/Documents/GitHub/rag/books/The Antichrist.html'),\n",
       " WindowsPath('C:/Users/HI/OneDrive/Documents/GitHub/rag/books/The Birth of Tragedy.html'),\n",
       " WindowsPath('C:/Users/HI/OneDrive/Documents/GitHub/rag/books/The Genealogy of Morals.html'),\n",
       " WindowsPath('C:/Users/HI/OneDrive/Documents/GitHub/rag/books/Thus Spake Zarathustra.html')]"
      ]
     },
     "execution_count": 9,
     "metadata": {},
     "output_type": "execute_result"
    }
   ],
   "source": [
    "files = list(data_path.glob(\"*.html\"))\n",
    "files"
   ]
  },
  {
   "cell_type": "code",
   "execution_count": 14,
   "id": "af51a9bb",
   "metadata": {},
   "outputs": [],
   "source": [
    "def clean_data(files):\n",
    "    for file in files:\n",
    "        raw_data = file.read_text(encoding='utf-8', errors='Ignore')\n",
    "        soup = BeautifulSoup(raw_data, 'lxml')\n",
    "        text_data = soup.get_text(separator=\" \", strip=True)\n",
    "        cleaned_data = re.sub(r\"\\s+\", \" \", text_data)\n",
    "        cleaned_data = re.sub(r\"\\b(Pg|Page)\\.?\\s*\\d+\\b\", \"\", cleaned_data, flags=re.IGNORECASE)\n",
    "        cleaned_data = cleaned_data.strip()\n",
    "        \n",
    "        path_obj = cleaned_path / (f\"{file.stem}.txt\")\n",
    "        path_obj.write_text(cleaned_data, encoding='utf-8')\n",
    "        \n",
    "        print(f\"Processed {file.stem} -> Saved to {path_obj.name} -> {len(cleaned_data.strip())} words\")"
   ]
  },
  {
   "cell_type": "code",
   "execution_count": 15,
   "id": "e3b4159a",
   "metadata": {},
   "outputs": [
    {
     "name": "stdout",
     "output_type": "stream",
     "text": [
      "Processed Beyond Good and Evil -> Saved to Beyond Good and Evil.txt -> 399166 words\n",
      "Processed ECCE HOMO -> Saved to ECCE HOMO.txt -> 287874 words\n",
      "Processed Human, All Too Human -> Saved to Human, All Too Human.txt -> 238796 words\n",
      "Processed The Antichrist -> Saved to The Antichrist.txt -> 219089 words\n",
      "Processed The Birth of Tragedy -> Saved to The Birth of Tragedy.txt -> 345756 words\n",
      "Processed The Genealogy of Morals -> Saved to The Genealogy of Morals.txt -> 350404 words\n",
      "Processed Thus Spake Zarathustra -> Saved to Thus Spake Zarathustra.txt -> 651426 words\n"
     ]
    }
   ],
   "source": [
    "clean_data(files)"
   ]
  },
  {
   "cell_type": "code",
   "execution_count": 18,
   "id": "2c308bf8",
   "metadata": {},
   "outputs": [
    {
     "data": {
      "text/plain": [
       "[WindowsPath('C:/Users/HI/OneDrive/Documents/GitHub/rag/cleaned_data/Beyond Good and Evil.txt'),\n",
       " WindowsPath('C:/Users/HI/OneDrive/Documents/GitHub/rag/cleaned_data/ECCE HOMO.txt'),\n",
       " WindowsPath('C:/Users/HI/OneDrive/Documents/GitHub/rag/cleaned_data/Human, All Too Human.txt'),\n",
       " WindowsPath('C:/Users/HI/OneDrive/Documents/GitHub/rag/cleaned_data/The Antichrist.txt'),\n",
       " WindowsPath('C:/Users/HI/OneDrive/Documents/GitHub/rag/cleaned_data/The Birth of Tragedy.txt'),\n",
       " WindowsPath('C:/Users/HI/OneDrive/Documents/GitHub/rag/cleaned_data/The Genealogy of Morals.txt'),\n",
       " WindowsPath('C:/Users/HI/OneDrive/Documents/GitHub/rag/cleaned_data/Thus Spake Zarathustra.txt')]"
      ]
     },
     "execution_count": 18,
     "metadata": {},
     "output_type": "execute_result"
    }
   ],
   "source": [
    "list(cleaned_path.glob(\"*.txt\"))"
   ]
  },
  {
   "cell_type": "code",
   "execution_count": 19,
   "id": "95acbef6",
   "metadata": {},
   "outputs": [],
   "source": [
    "document = ''\n",
    "\n",
    "for file in list(cleaned_path.glob(\"*.txt\")):\n",
    "    document += f\"Start of {file.stem}\\n\\n\"\n",
    "    document += file.read_text(encoding='utf-8', errors='ignore')\n",
    "    document += f\"End of {file.stem}\\n\\n\""
   ]
  },
  {
   "cell_type": "code",
   "execution_count": 22,
   "id": "18158e2c",
   "metadata": {},
   "outputs": [
    {
     "data": {
      "text/plain": [
       "'Start of Beyond Good and Evil\\n\\nBeyond Good and Evil, by Friedrich Nietzsche The Project Gutenberg eBook of Beyond Good and Evil This ebook is for the use of anyone anywhere in the United States and most other parts of the world at no cost and with almost no restrictions whatsoever. You may copy it, give it away or re-use it under the terms of the Project Gutenberg License included with this ebook or online at www.gutenberg.org . If you are not located in the United States, you will have to check the laws of the country where you are located before using this eBook. Title : Beyond Good and Evil Author : Friedrich Wilhelm Nietzsche Translator : Helen Zimmern Release date : August 1, 2003 [eBook #4363] Most recently updated: January 9, 2019 Language : English Credits : Produced by John Mamoun, Charles Franks, David Widger and the Online Distributed Proofreading Team *** START OF THE PROJECT GUTENBERG EBOOK BEYOND GOOD AND EVIL *** BEYOND GOOD AND EVIL By Friedrich Nietzsche Translated by '"
      ]
     },
     "execution_count": 22,
     "metadata": {},
     "output_type": "execute_result"
    }
   ],
   "source": [
    "document[:1000]"
   ]
  },
  {
   "cell_type": "code",
   "execution_count": 23,
   "id": "a0b46367",
   "metadata": {},
   "outputs": [],
   "source": [
    "final_db_object = cleaned_path / 'knowledge_base.txt'"
   ]
  },
  {
   "cell_type": "code",
   "execution_count": 24,
   "id": "cb1eba38",
   "metadata": {},
   "outputs": [
    {
     "data": {
      "text/plain": [
       "2492907"
      ]
     },
     "execution_count": 24,
     "metadata": {},
     "output_type": "execute_result"
    }
   ],
   "source": [
    "final_db_object.write_text(document, encoding='utf-8')"
   ]
  },
  {
   "cell_type": "code",
   "execution_count": 25,
   "id": "1732b8f1",
   "metadata": {},
   "outputs": [
    {
     "data": {
      "text/plain": [
       "[WindowsPath('C:/Users/HI/OneDrive/Documents/GitHub/rag/cleaned_data/Beyond Good and Evil.txt'),\n",
       " WindowsPath('C:/Users/HI/OneDrive/Documents/GitHub/rag/cleaned_data/ECCE HOMO.txt'),\n",
       " WindowsPath('C:/Users/HI/OneDrive/Documents/GitHub/rag/cleaned_data/Human, All Too Human.txt'),\n",
       " WindowsPath('C:/Users/HI/OneDrive/Documents/GitHub/rag/cleaned_data/knowledge_base.txt'),\n",
       " WindowsPath('C:/Users/HI/OneDrive/Documents/GitHub/rag/cleaned_data/The Antichrist.txt'),\n",
       " WindowsPath('C:/Users/HI/OneDrive/Documents/GitHub/rag/cleaned_data/The Birth of Tragedy.txt'),\n",
       " WindowsPath('C:/Users/HI/OneDrive/Documents/GitHub/rag/cleaned_data/The Genealogy of Morals.txt'),\n",
       " WindowsPath('C:/Users/HI/OneDrive/Documents/GitHub/rag/cleaned_data/Thus Spake Zarathustra.txt')]"
      ]
     },
     "execution_count": 25,
     "metadata": {},
     "output_type": "execute_result"
    }
   ],
   "source": [
    "list(cleaned_path.glob(\"*.txt\"))"
   ]
  },
  {
   "cell_type": "code",
   "execution_count": 30,
   "id": "f56a22ee",
   "metadata": {},
   "outputs": [],
   "source": [
    "knowledge_base_path = Path(r\"C:\\Users\\HI\\OneDrive\\Documents\\GitHub\\rag\\cleaned_data\\knowledge_base.txt\")"
   ]
  },
  {
   "cell_type": "code",
   "execution_count": 32,
   "id": "e08cc321",
   "metadata": {},
   "outputs": [
    {
     "data": {
      "text/plain": [
       "'Start of Beyond Good and Evil\\n\\nBeyond Good and Evil, by Friedrich Nietzsche The Project Gutenberg eBook of Beyond Good and Evil This ebook is for the use of anyone anywhere in the United States and most other parts of the world at no cost and with almost no restrictions whatsoever. You may copy it, give it away or re-use it under the terms of the Project Gutenberg License included with this ebook or online at www.gutenberg.org . If you are not located in the United States, you will have to check the laws of the country where you are located before using this eBook. Title : Beyond Good and Evil Author : Friedrich Wilhelm Nietzsche Translator : Helen Zimmern Release date : August 1, 2003 [eBook #4363] Most recently updated: January 9, 2019 Language : English Credits : Produced by John Mamoun, Charles Franks, David Widger and the Online Distributed Proofreading Team *** START OF THE PROJECT GUTENBERG EBOOK BEYOND GOOD AND EVIL *** BEYOND GOOD AND EVIL By Friedrich Nietzsche Translated by '"
      ]
     },
     "execution_count": 32,
     "metadata": {},
     "output_type": "execute_result"
    }
   ],
   "source": [
    "knowledge_base_path.read_text(encoding='utf-8', errors='ignore')[:1000]"
   ]
  },
  {
   "cell_type": "code",
   "execution_count": 28,
   "id": "f5e7e146",
   "metadata": {},
   "outputs": [],
   "source": [
    "from langchain.text_splitter import RecursiveCharacterTextSplitter"
   ]
  },
  {
   "cell_type": "code",
   "execution_count": 29,
   "id": "6c79cf8c",
   "metadata": {},
   "outputs": [],
   "source": [
    "text_splitter = RecursiveCharacterTextSplitter(chunk_size = 1000,\n",
    "                                               chunk_overlap = 200,\n",
    "                                               separators = [\"\\n\\n\", \"\\n\", \".\", \" \", \"\"])"
   ]
  },
  {
   "cell_type": "code",
   "execution_count": 37,
   "id": "76f03dcc",
   "metadata": {},
   "outputs": [],
   "source": [
    "chunks = text_splitter.split_text(knowledge_base_path.read_text(encoding='utf-8', errors='ignore'))"
   ]
  },
  {
   "cell_type": "code",
   "execution_count": 48,
   "id": "f9f631ba",
   "metadata": {},
   "outputs": [
    {
     "name": "stdout",
     "output_type": "stream",
     "text": [
      "Total number of chunks created -> 3256\n"
     ]
    }
   ],
   "source": [
    "print(f\"Total number of chunks created -> {len(chunks)}\")"
   ]
  },
  {
   "cell_type": "code",
   "execution_count": 55,
   "id": "3277fc08",
   "metadata": {},
   "outputs": [],
   "source": [
    "from sentence_transformers import SentenceTransformer"
   ]
  },
  {
   "cell_type": "code",
   "execution_count": 56,
   "id": "9ae1c664",
   "metadata": {},
   "outputs": [
    {
     "data": {
      "application/vnd.jupyter.widget-view+json": {
       "model_id": "ea49b8d9e19145d3a508be802bf6b979",
       "version_major": 2,
       "version_minor": 0
      },
      "text/plain": [
       "modules.json:   0%|          | 0.00/349 [00:00<?, ?B/s]"
      ]
     },
     "metadata": {},
     "output_type": "display_data"
    },
    {
     "name": "stderr",
     "output_type": "stream",
     "text": [
      "c:\\Python310\\lib\\site-packages\\huggingface_hub\\file_download.py:143: UserWarning: `huggingface_hub` cache-system uses symlinks by default to efficiently store duplicated files but your machine does not support them in C:\\Users\\HI\\.cache\\huggingface\\hub\\models--sentence-transformers--all-mpnet-base-v2. Caching files will still work but in a degraded version that might require more space on your disk. This warning can be disabled by setting the `HF_HUB_DISABLE_SYMLINKS_WARNING` environment variable. For more details, see https://huggingface.co/docs/huggingface_hub/how-to-cache#limitations.\n",
      "To support symlinks on Windows, you either need to activate Developer Mode or to run Python as an administrator. In order to activate developer mode, see this article: https://docs.microsoft.com/en-us/windows/apps/get-started/enable-your-device-for-development\n",
      "  warnings.warn(message)\n"
     ]
    },
    {
     "data": {
      "application/vnd.jupyter.widget-view+json": {
       "model_id": "faa4236d3d7844a48eadc1cf71764121",
       "version_major": 2,
       "version_minor": 0
      },
      "text/plain": [
       "config_sentence_transformers.json:   0%|          | 0.00/116 [00:00<?, ?B/s]"
      ]
     },
     "metadata": {},
     "output_type": "display_data"
    },
    {
     "data": {
      "application/vnd.jupyter.widget-view+json": {
       "model_id": "a21e82a2f07d436ca4f520c1584e96eb",
       "version_major": 2,
       "version_minor": 0
      },
      "text/plain": [
       "README.md: 0.00B [00:00, ?B/s]"
      ]
     },
     "metadata": {},
     "output_type": "display_data"
    },
    {
     "data": {
      "application/vnd.jupyter.widget-view+json": {
       "model_id": "29806bdabad54a6986a23d846c7cd330",
       "version_major": 2,
       "version_minor": 0
      },
      "text/plain": [
       "sentence_bert_config.json:   0%|          | 0.00/53.0 [00:00<?, ?B/s]"
      ]
     },
     "metadata": {},
     "output_type": "display_data"
    },
    {
     "data": {
      "application/vnd.jupyter.widget-view+json": {
       "model_id": "d258e0315d8e4c3a885fd0143bd3ed6c",
       "version_major": 2,
       "version_minor": 0
      },
      "text/plain": [
       "config.json:   0%|          | 0.00/571 [00:00<?, ?B/s]"
      ]
     },
     "metadata": {},
     "output_type": "display_data"
    },
    {
     "name": "stderr",
     "output_type": "stream",
     "text": [
      "Xet Storage is enabled for this repo, but the 'hf_xet' package is not installed. Falling back to regular HTTP download. For better performance, install the package with: `pip install huggingface_hub[hf_xet]` or `pip install hf_xet`\n"
     ]
    },
    {
     "data": {
      "application/vnd.jupyter.widget-view+json": {
       "model_id": "cb585f8f5d39454c9a8fd73977c78c9f",
       "version_major": 2,
       "version_minor": 0
      },
      "text/plain": [
       "model.safetensors:   0%|          | 0.00/438M [00:00<?, ?B/s]"
      ]
     },
     "metadata": {},
     "output_type": "display_data"
    },
    {
     "data": {
      "application/vnd.jupyter.widget-view+json": {
       "model_id": "ecae1a08db4345e5ad90ce08f9e18409",
       "version_major": 2,
       "version_minor": 0
      },
      "text/plain": [
       "tokenizer_config.json:   0%|          | 0.00/363 [00:00<?, ?B/s]"
      ]
     },
     "metadata": {},
     "output_type": "display_data"
    },
    {
     "data": {
      "application/vnd.jupyter.widget-view+json": {
       "model_id": "839e4b52679f41f89d4ff5b69bd9c9ae",
       "version_major": 2,
       "version_minor": 0
      },
      "text/plain": [
       "vocab.txt: 0.00B [00:00, ?B/s]"
      ]
     },
     "metadata": {},
     "output_type": "display_data"
    },
    {
     "data": {
      "application/vnd.jupyter.widget-view+json": {
       "model_id": "d8aec4c2112c4b5db5ba1dca99955965",
       "version_major": 2,
       "version_minor": 0
      },
      "text/plain": [
       "tokenizer.json: 0.00B [00:00, ?B/s]"
      ]
     },
     "metadata": {},
     "output_type": "display_data"
    },
    {
     "data": {
      "application/vnd.jupyter.widget-view+json": {
       "model_id": "6a9288667b5a49ae9f1680cb8a21f043",
       "version_major": 2,
       "version_minor": 0
      },
      "text/plain": [
       "special_tokens_map.json:   0%|          | 0.00/239 [00:00<?, ?B/s]"
      ]
     },
     "metadata": {},
     "output_type": "display_data"
    },
    {
     "data": {
      "application/vnd.jupyter.widget-view+json": {
       "model_id": "b7a52c6e236f43a183ce8124228f6b9a",
       "version_major": 2,
       "version_minor": 0
      },
      "text/plain": [
       "config.json:   0%|          | 0.00/190 [00:00<?, ?B/s]"
      ]
     },
     "metadata": {},
     "output_type": "display_data"
    }
   ],
   "source": [
    "model = SentenceTransformer('all-mpnet-base-v2')"
   ]
  },
  {
   "cell_type": "code",
   "execution_count": 57,
   "id": "77f37693",
   "metadata": {},
   "outputs": [],
   "source": [
    "embeddings = []"
   ]
  },
  {
   "cell_type": "code",
   "execution_count": 58,
   "id": "a4221543",
   "metadata": {},
   "outputs": [
    {
     "name": "stderr",
     "output_type": "stream",
     "text": [
      "Embedding Chunks: 100%|██████████| 3256/3256 [22:05<00:00,  2.46it/s]\n"
     ]
    }
   ],
   "source": [
    "for chunk in tqdm(chunks, desc='Embedding Chunks'):\n",
    "    vector = model.encode(chunk)\n",
    "    embeddings.append(vector)"
   ]
  },
  {
   "cell_type": "code",
   "execution_count": null,
   "id": "1719f4ac",
   "metadata": {},
   "outputs": [],
   "source": []
  },
  {
   "cell_type": "code",
   "execution_count": null,
   "id": "63a95d71",
   "metadata": {},
   "outputs": [],
   "source": []
  },
  {
   "cell_type": "code",
   "execution_count": null,
   "id": "06b12ac7",
   "metadata": {},
   "outputs": [],
   "source": []
  },
  {
   "cell_type": "code",
   "execution_count": null,
   "id": "ac584c7e",
   "metadata": {},
   "outputs": [],
   "source": []
  }
 ],
 "metadata": {
  "kernelspec": {
   "display_name": "Python 3",
   "language": "python",
   "name": "python3"
  },
  "language_info": {
   "codemirror_mode": {
    "name": "ipython",
    "version": 3
   },
   "file_extension": ".py",
   "mimetype": "text/x-python",
   "name": "python",
   "nbconvert_exporter": "python",
   "pygments_lexer": "ipython3",
   "version": "3.10.11"
  }
 },
 "nbformat": 4,
 "nbformat_minor": 5
}
