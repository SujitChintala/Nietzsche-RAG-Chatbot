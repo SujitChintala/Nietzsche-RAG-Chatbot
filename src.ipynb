{
 "cells": [
  {
   "cell_type": "code",
   "execution_count": 4,
   "id": "c7d5b19e",
   "metadata": {},
   "outputs": [],
   "source": [
    "import pandas as pd\n",
    "import numpy as np\n",
    "from bs4 import BeautifulSoup\n",
    "import re\n",
    "from pathlib import Path\n",
    "from tqdm import tqdm"
   ]
  },
  {
   "cell_type": "code",
   "execution_count": 7,
   "id": "ab78298f",
   "metadata": {},
   "outputs": [],
   "source": [
    "data_path = Path(r\"C:\\Users\\HI\\OneDrive\\Documents\\GitHub\\rag\\books\")\n",
    "cleaned_path = Path(r\"C:\\Users\\HI\\OneDrive\\Documents\\GitHub\\rag\\cleaned_data\")"
   ]
  },
  {
   "cell_type": "code",
   "execution_count": 9,
   "id": "44caf772",
   "metadata": {},
   "outputs": [
    {
     "data": {
      "text/plain": [
       "[WindowsPath('C:/Users/HI/OneDrive/Documents/GitHub/rag/books/Beyond Good and Evil.html'),\n",
       " WindowsPath('C:/Users/HI/OneDrive/Documents/GitHub/rag/books/ECCE HOMO.html'),\n",
       " WindowsPath('C:/Users/HI/OneDrive/Documents/GitHub/rag/books/Human, All Too Human.html'),\n",
       " WindowsPath('C:/Users/HI/OneDrive/Documents/GitHub/rag/books/The Antichrist.html'),\n",
       " WindowsPath('C:/Users/HI/OneDrive/Documents/GitHub/rag/books/The Birth of Tragedy.html'),\n",
       " WindowsPath('C:/Users/HI/OneDrive/Documents/GitHub/rag/books/The Genealogy of Morals.html'),\n",
       " WindowsPath('C:/Users/HI/OneDrive/Documents/GitHub/rag/books/Thus Spake Zarathustra.html')]"
      ]
     },
     "execution_count": 9,
     "metadata": {},
     "output_type": "execute_result"
    }
   ],
   "source": [
    "files = list(data_path.glob(\"*.html\"))\n",
    "files"
   ]
  },
  {
   "cell_type": "code",
   "execution_count": 14,
   "id": "af51a9bb",
   "metadata": {},
   "outputs": [],
   "source": [
    "def clean_data(files):\n",
    "    for file in files:\n",
    "        raw_data = file.read_text(encoding='utf-8', errors='Ignore')\n",
    "        soup = BeautifulSoup(raw_data, 'lxml')\n",
    "        text_data = soup.get_text(separator=\" \", strip=True)\n",
    "        cleaned_data = re.sub(r\"\\s+\", \" \", text_data)\n",
    "        cleaned_data = re.sub(r\"\\b(Pg|Page)\\.?\\s*\\d+\\b\", \"\", cleaned_data, flags=re.IGNORECASE)\n",
    "        cleaned_data = cleaned_data.strip()\n",
    "        \n",
    "        path_obj = cleaned_path / (f\"{file.stem}.txt\")\n",
    "        path_obj.write_text(cleaned_data, encoding='utf-8')\n",
    "        \n",
    "        print(f\"Processed {file.stem} -> Saved to {path_obj.name} -> {len(cleaned_data.strip())} words\")"
   ]
  },
  {
   "cell_type": "code",
   "execution_count": 15,
   "id": "e3b4159a",
   "metadata": {},
   "outputs": [
    {
     "name": "stdout",
     "output_type": "stream",
     "text": [
      "Processed Beyond Good and Evil -> Saved to Beyond Good and Evil.txt -> 399166 words\n",
      "Processed ECCE HOMO -> Saved to ECCE HOMO.txt -> 287874 words\n",
      "Processed Human, All Too Human -> Saved to Human, All Too Human.txt -> 238796 words\n",
      "Processed The Antichrist -> Saved to The Antichrist.txt -> 219089 words\n",
      "Processed The Birth of Tragedy -> Saved to The Birth of Tragedy.txt -> 345756 words\n",
      "Processed The Genealogy of Morals -> Saved to The Genealogy of Morals.txt -> 350404 words\n",
      "Processed Thus Spake Zarathustra -> Saved to Thus Spake Zarathustra.txt -> 651426 words\n"
     ]
    }
   ],
   "source": [
    "clean_data(files)"
   ]
  },
  {
   "cell_type": "code",
   "execution_count": 18,
   "id": "2c308bf8",
   "metadata": {},
   "outputs": [
    {
     "data": {
      "text/plain": [
       "[WindowsPath('C:/Users/HI/OneDrive/Documents/GitHub/rag/cleaned_data/Beyond Good and Evil.txt'),\n",
       " WindowsPath('C:/Users/HI/OneDrive/Documents/GitHub/rag/cleaned_data/ECCE HOMO.txt'),\n",
       " WindowsPath('C:/Users/HI/OneDrive/Documents/GitHub/rag/cleaned_data/Human, All Too Human.txt'),\n",
       " WindowsPath('C:/Users/HI/OneDrive/Documents/GitHub/rag/cleaned_data/The Antichrist.txt'),\n",
       " WindowsPath('C:/Users/HI/OneDrive/Documents/GitHub/rag/cleaned_data/The Birth of Tragedy.txt'),\n",
       " WindowsPath('C:/Users/HI/OneDrive/Documents/GitHub/rag/cleaned_data/The Genealogy of Morals.txt'),\n",
       " WindowsPath('C:/Users/HI/OneDrive/Documents/GitHub/rag/cleaned_data/Thus Spake Zarathustra.txt')]"
      ]
     },
     "execution_count": 18,
     "metadata": {},
     "output_type": "execute_result"
    }
   ],
   "source": [
    "list(cleaned_path.glob(\"*.txt\"))"
   ]
  },
  {
   "cell_type": "code",
   "execution_count": 19,
   "id": "95acbef6",
   "metadata": {},
   "outputs": [],
   "source": [
    "document = ''\n",
    "\n",
    "for file in list(cleaned_path.glob(\"*.txt\")):\n",
    "    document += f\"Start of {file.stem}\\n\\n\"\n",
    "    document += file.read_text(encoding='utf-8', errors='ignore')\n",
    "    document += f\"End of {file.stem}\\n\\n\""
   ]
  },
  {
   "cell_type": "code",
   "execution_count": 22,
   "id": "18158e2c",
   "metadata": {},
   "outputs": [
    {
     "data": {
      "text/plain": [
       "'Start of Beyond Good and Evil\\n\\nBeyond Good and Evil, by Friedrich Nietzsche The Project Gutenberg eBook of Beyond Good and Evil This ebook is for the use of anyone anywhere in the United States and most other parts of the world at no cost and with almost no restrictions whatsoever. You may copy it, give it away or re-use it under the terms of the Project Gutenberg License included with this ebook or online at www.gutenberg.org . If you are not located in the United States, you will have to check the laws of the country where you are located before using this eBook. Title : Beyond Good and Evil Author : Friedrich Wilhelm Nietzsche Translator : Helen Zimmern Release date : August 1, 2003 [eBook #4363] Most recently updated: January 9, 2019 Language : English Credits : Produced by John Mamoun, Charles Franks, David Widger and the Online Distributed Proofreading Team *** START OF THE PROJECT GUTENBERG EBOOK BEYOND GOOD AND EVIL *** BEYOND GOOD AND EVIL By Friedrich Nietzsche Translated by '"
      ]
     },
     "execution_count": 22,
     "metadata": {},
     "output_type": "execute_result"
    }
   ],
   "source": [
    "document[:1000]"
   ]
  },
  {
   "cell_type": "code",
   "execution_count": 23,
   "id": "a0b46367",
   "metadata": {},
   "outputs": [],
   "source": [
    "final_db_object = cleaned_path / 'knowledge_base.txt'"
   ]
  },
  {
   "cell_type": "code",
   "execution_count": 24,
   "id": "cb1eba38",
   "metadata": {},
   "outputs": [
    {
     "data": {
      "text/plain": [
       "2492907"
      ]
     },
     "execution_count": 24,
     "metadata": {},
     "output_type": "execute_result"
    }
   ],
   "source": [
    "final_db_object.write_text(document, encoding='utf-8')"
   ]
  },
  {
   "cell_type": "code",
   "execution_count": 25,
   "id": "1732b8f1",
   "metadata": {},
   "outputs": [
    {
     "data": {
      "text/plain": [
       "[WindowsPath('C:/Users/HI/OneDrive/Documents/GitHub/rag/cleaned_data/Beyond Good and Evil.txt'),\n",
       " WindowsPath('C:/Users/HI/OneDrive/Documents/GitHub/rag/cleaned_data/ECCE HOMO.txt'),\n",
       " WindowsPath('C:/Users/HI/OneDrive/Documents/GitHub/rag/cleaned_data/Human, All Too Human.txt'),\n",
       " WindowsPath('C:/Users/HI/OneDrive/Documents/GitHub/rag/cleaned_data/knowledge_base.txt'),\n",
       " WindowsPath('C:/Users/HI/OneDrive/Documents/GitHub/rag/cleaned_data/The Antichrist.txt'),\n",
       " WindowsPath('C:/Users/HI/OneDrive/Documents/GitHub/rag/cleaned_data/The Birth of Tragedy.txt'),\n",
       " WindowsPath('C:/Users/HI/OneDrive/Documents/GitHub/rag/cleaned_data/The Genealogy of Morals.txt'),\n",
       " WindowsPath('C:/Users/HI/OneDrive/Documents/GitHub/rag/cleaned_data/Thus Spake Zarathustra.txt')]"
      ]
     },
     "execution_count": 25,
     "metadata": {},
     "output_type": "execute_result"
    }
   ],
   "source": [
    "list(cleaned_path.glob(\"*.txt\"))"
   ]
  },
  {
   "cell_type": "code",
   "execution_count": 30,
   "id": "f56a22ee",
   "metadata": {},
   "outputs": [],
   "source": [
    "knowledge_base_path = Path(r\"C:\\Users\\HI\\OneDrive\\Documents\\GitHub\\rag\\cleaned_data\\knowledge_base.txt\")"
   ]
  },
  {
   "cell_type": "code",
   "execution_count": 32,
   "id": "e08cc321",
   "metadata": {},
   "outputs": [
    {
     "data": {
      "text/plain": [
       "'Start of Beyond Good and Evil\\n\\nBeyond Good and Evil, by Friedrich Nietzsche The Project Gutenberg eBook of Beyond Good and Evil This ebook is for the use of anyone anywhere in the United States and most other parts of the world at no cost and with almost no restrictions whatsoever. You may copy it, give it away or re-use it under the terms of the Project Gutenberg License included with this ebook or online at www.gutenberg.org . If you are not located in the United States, you will have to check the laws of the country where you are located before using this eBook. Title : Beyond Good and Evil Author : Friedrich Wilhelm Nietzsche Translator : Helen Zimmern Release date : August 1, 2003 [eBook #4363] Most recently updated: January 9, 2019 Language : English Credits : Produced by John Mamoun, Charles Franks, David Widger and the Online Distributed Proofreading Team *** START OF THE PROJECT GUTENBERG EBOOK BEYOND GOOD AND EVIL *** BEYOND GOOD AND EVIL By Friedrich Nietzsche Translated by '"
      ]
     },
     "execution_count": 32,
     "metadata": {},
     "output_type": "execute_result"
    }
   ],
   "source": [
    "knowledge_base_path.read_text(encoding='utf-8', errors='ignore')[:1000]"
   ]
  },
  {
   "cell_type": "code",
   "execution_count": 5,
   "id": "f5e7e146",
   "metadata": {},
   "outputs": [],
   "source": [
    "from langchain.text_splitter import RecursiveCharacterTextSplitter"
   ]
  },
  {
   "cell_type": "code",
   "execution_count": 29,
   "id": "6c79cf8c",
   "metadata": {},
   "outputs": [],
   "source": [
    "text_splitter = RecursiveCharacterTextSplitter(chunk_size = 1000,\n",
    "                                               chunk_overlap = 200,\n",
    "                                               separators = [\"\\n\\n\", \"\\n\", \".\", \" \", \"\"])"
   ]
  },
  {
   "cell_type": "code",
   "execution_count": 37,
   "id": "76f03dcc",
   "metadata": {},
   "outputs": [],
   "source": [
    "chunks = text_splitter.split_text(knowledge_base_path.read_text(encoding='utf-8', errors='ignore'))"
   ]
  },
  {
   "cell_type": "code",
   "execution_count": 48,
   "id": "f9f631ba",
   "metadata": {},
   "outputs": [
    {
     "name": "stdout",
     "output_type": "stream",
     "text": [
      "Total number of chunks created -> 3256\n"
     ]
    }
   ],
   "source": [
    "print(f\"Total number of chunks created -> {len(chunks)}\")"
   ]
  },
  {
   "cell_type": "code",
   "execution_count": 6,
   "id": "3277fc08",
   "metadata": {},
   "outputs": [],
   "source": [
    "from sentence_transformers import SentenceTransformer"
   ]
  },
  {
   "cell_type": "code",
   "execution_count": 7,
   "id": "9ae1c664",
   "metadata": {},
   "outputs": [],
   "source": [
    "model = SentenceTransformer('all-mpnet-base-v2')"
   ]
  },
  {
   "cell_type": "code",
   "execution_count": 57,
   "id": "77f37693",
   "metadata": {},
   "outputs": [],
   "source": [
    "embeddings = []"
   ]
  },
  {
   "cell_type": "code",
   "execution_count": 58,
   "id": "a4221543",
   "metadata": {},
   "outputs": [
    {
     "name": "stderr",
     "output_type": "stream",
     "text": [
      "Embedding Chunks: 100%|██████████| 3256/3256 [22:05<00:00,  2.46it/s]\n"
     ]
    }
   ],
   "source": [
    "for chunk in tqdm(chunks, desc='Embedding Chunks'):\n",
    "    vector = model.encode(chunk)\n",
    "    embeddings.append(vector)"
   ]
  },
  {
   "cell_type": "code",
   "execution_count": 61,
   "id": "1719f4ac",
   "metadata": {},
   "outputs": [
    {
     "data": {
      "text/plain": [
       "(768,)"
      ]
     },
     "execution_count": 61,
     "metadata": {},
     "output_type": "execute_result"
    }
   ],
   "source": [
    "embeddings[1].shape"
   ]
  },
  {
   "cell_type": "code",
   "execution_count": 71,
   "id": "63a95d71",
   "metadata": {},
   "outputs": [],
   "source": [
    "embeddings = np.array(embeddings)"
   ]
  },
  {
   "cell_type": "code",
   "execution_count": 74,
   "id": "a5c6cac9",
   "metadata": {},
   "outputs": [
    {
     "data": {
      "text/plain": [
       "array([ 2.37605404e-02,  2.69424152e-02,  1.35689052e-02, -2.30294541e-02,\n",
       "        3.52771254e-03,  2.25750543e-02, -3.45590487e-02, -3.59090418e-02,\n",
       "        3.36540490e-02, -2.21780990e-03,  1.61828119e-02,  5.64913265e-03,\n",
       "       -2.57997308e-02, -6.02208711e-02,  6.24076501e-02, -4.59250174e-02,\n",
       "        7.04506319e-03,  4.09701616e-02,  2.39608530e-02,  3.65270004e-02,\n",
       "       -3.16632725e-02,  1.53893819e-02,  3.30377258e-02, -3.19244564e-02,\n",
       "        7.92644396e-02,  3.98681387e-02, -3.87611939e-03,  3.31625827e-02,\n",
       "        1.90930944e-02, -2.69599929e-02, -5.59169799e-02, -4.96564731e-02,\n",
       "       -1.75801907e-02,  5.11434972e-02,  2.26844236e-06, -3.24931294e-02,\n",
       "        3.50014865e-02, -2.64057070e-02,  1.56410672e-02, -2.71965470e-02,\n",
       "        5.63886464e-02,  8.02482292e-02, -1.31415315e-02,  1.00663295e-02,\n",
       "        2.14902591e-02,  1.40320463e-02, -8.29589367e-02,  8.67491066e-02,\n",
       "       -4.34561260e-02,  5.78383449e-03, -3.05630872e-03, -8.51099491e-02,\n",
       "        2.47614756e-02, -2.25568563e-02, -1.49071366e-02,  2.73074396e-02,\n",
       "        2.86672283e-02, -2.82186810e-02, -6.86861668e-03,  2.58118417e-02,\n",
       "       -9.43138450e-03, -2.36843545e-02, -2.95650046e-02,  1.68080200e-02,\n",
       "        6.15687780e-02, -5.71773611e-02,  6.34464845e-02, -6.39205333e-03,\n",
       "       -1.03648147e-02,  1.96794476e-02, -1.45791201e-02,  7.22453045e-03,\n",
       "        3.62865850e-02,  1.03382161e-03,  4.34609950e-02, -5.21275029e-02,\n",
       "        2.78178025e-02, -2.72901375e-02, -2.47247703e-02, -1.64480004e-02,\n",
       "        1.55322775e-02,  4.13203798e-03,  1.61886099e-03,  2.77644880e-02,\n",
       "        1.07691856e-02, -2.88697127e-02,  1.12235453e-02, -6.87395176e-03,\n",
       "        6.28476068e-02, -3.63760404e-02, -1.40208587e-01, -4.72841151e-02,\n",
       "       -5.20347767e-02,  1.51964126e-03,  1.15714245e-03,  1.62084773e-02,\n",
       "        4.01899830e-04, -1.92785505e-02, -2.18218076e-04, -2.36785635e-02,\n",
       "        2.82981694e-02, -1.49817616e-02,  9.89360642e-03,  1.74920410e-02,\n",
       "        3.56180891e-02, -3.50118689e-02,  1.26579776e-02,  2.42358632e-02,\n",
       "       -1.97177641e-02,  2.08989661e-02,  6.05438761e-02,  1.56773161e-02,\n",
       "       -3.12919989e-02, -9.06733098e-04,  8.90859030e-03,  1.81300063e-02,\n",
       "        9.97084193e-04, -1.93732549e-02,  7.35593308e-03,  2.58312728e-02,\n",
       "       -3.21077183e-02, -6.31312281e-03,  1.60686243e-02,  1.97843295e-02,\n",
       "       -4.41928729e-02,  5.82826231e-03, -7.87493885e-02, -3.81484181e-02,\n",
       "       -5.08306697e-02,  3.49651687e-02,  2.26999745e-02, -2.02655904e-02,\n",
       "       -2.51757260e-02, -1.79259237e-02,  4.15577032e-02,  1.31041512e-01,\n",
       "        2.43075248e-02, -2.71618012e-02, -4.20068018e-02,  6.13739267e-02,\n",
       "        2.01735217e-02, -2.30099130e-02,  2.95238886e-02,  1.59201771e-02,\n",
       "       -2.24967636e-02,  4.97775665e-03,  6.77825697e-03, -2.54526287e-02,\n",
       "        4.83305519e-03, -3.08286231e-02, -4.24560532e-02, -1.70083791e-02,\n",
       "       -1.74896438e-02, -2.29353644e-02,  3.42425443e-02,  2.59613320e-02,\n",
       "       -3.18684541e-02, -4.07323651e-02, -2.36677416e-02, -2.20746864e-02,\n",
       "        5.34123294e-02, -2.03049891e-02, -1.55710978e-02,  2.89098080e-02,\n",
       "        2.03775186e-02, -5.11978660e-03,  3.36480103e-02,  7.19763106e-03,\n",
       "       -1.61756817e-02, -1.09436391e-02, -7.73038641e-02, -1.82394590e-02,\n",
       "       -2.78357584e-02,  3.92913334e-02,  1.01256333e-02,  4.29178737e-02,\n",
       "        1.41309416e-02,  1.74880158e-02, -4.39469479e-02,  5.10731786e-02,\n",
       "       -2.98278611e-02, -3.28022707e-03, -4.09713350e-02,  1.60775073e-02,\n",
       "        5.22070006e-02,  2.84698699e-02, -1.66594107e-02,  5.97438999e-02,\n",
       "        1.73901394e-02,  2.35165842e-02,  3.39140184e-02,  9.37346462e-03,\n",
       "        2.19310373e-02,  3.55653800e-02,  2.53882762e-02,  1.71897486e-02,\n",
       "       -3.79392989e-02, -3.26059312e-02,  4.02581915e-02, -2.22706348e-02,\n",
       "       -7.74306152e-03,  3.88788362e-03,  3.78053188e-02,  3.62630822e-02,\n",
       "        8.59464426e-03,  7.09216576e-03, -1.86746882e-04, -1.60353910e-02,\n",
       "       -3.24630477e-02,  1.90010220e-02, -3.99725363e-02,  5.99566065e-02,\n",
       "        2.97984947e-02, -5.36133908e-02, -3.92329181e-03, -4.49416637e-02,\n",
       "       -5.12303673e-02,  3.66013199e-02, -8.79222453e-02, -1.40667008e-02,\n",
       "        2.49831360e-02,  3.94495688e-02, -4.95362049e-03, -1.16288560e-02,\n",
       "       -3.87046039e-02, -3.74899209e-02, -2.16516145e-02, -1.46973561e-02,\n",
       "       -1.08148670e-03, -1.55013446e-02, -2.82639414e-02, -3.63510847e-03,\n",
       "       -2.70065870e-02, -1.09846899e-02, -2.77653933e-02,  7.07218945e-02,\n",
       "       -1.12479636e-02,  7.68249333e-02, -1.95164643e-02, -1.40284657e-01,\n",
       "       -2.30359868e-03,  5.86452074e-02,  3.48859094e-02,  3.35686207e-02,\n",
       "        2.36228481e-02, -1.40612503e-03,  4.67084982e-02, -1.35329757e-02,\n",
       "        1.90689433e-02, -7.15139732e-02, -2.26987991e-02, -1.44308824e-02,\n",
       "        1.08761546e-04,  1.06923385e-02,  5.02220616e-02, -4.41942625e-02,\n",
       "       -9.69063770e-03,  1.01478100e-01,  1.27859995e-01, -3.17909643e-02,\n",
       "       -5.60666434e-02, -1.24610914e-02, -1.67333084e-04, -1.08378883e-02,\n",
       "        7.00999796e-02, -2.42808219e-02,  3.92365865e-02,  6.95587695e-02,\n",
       "       -2.17159595e-02, -2.74657691e-03, -5.05295908e-03,  2.40261406e-02,\n",
       "        4.18549543e-03,  8.58997647e-03,  4.44073463e-03, -5.57481498e-03,\n",
       "        1.08129822e-01,  4.92441654e-02, -2.01348253e-02,  2.07096292e-03,\n",
       "        4.46751639e-02, -2.03646049e-02, -1.32861286e-02,  2.93718986e-02,\n",
       "       -9.93190426e-03,  4.61145751e-02, -1.11276805e-02,  2.67310180e-02,\n",
       "        2.17313636e-02,  7.01206774e-02, -7.01623559e-02, -2.64018239e-03,\n",
       "       -2.78919935e-02, -1.80375129e-02, -6.85321074e-03,  2.13871221e-03,\n",
       "       -2.15897895e-02,  8.76366906e-03, -1.98489763e-02, -1.95708461e-02,\n",
       "        1.79765914e-02,  2.82341838e-02,  2.16024946e-02, -2.96989903e-02,\n",
       "        5.47115207e-02, -4.66012163e-03, -4.64621447e-02,  1.97625682e-02,\n",
       "       -3.30246910e-02,  4.09127995e-02,  3.09102959e-03, -7.59354187e-03,\n",
       "       -6.12508506e-04,  1.14191705e-02, -4.75964807e-02, -6.54753158e-03,\n",
       "       -1.44017069e-02, -1.05588101e-01,  2.74783913e-02, -2.19763126e-02,\n",
       "       -2.26583593e-02,  5.89181893e-02,  2.75169779e-03,  4.82143685e-02,\n",
       "        1.91515572e-02,  4.49273959e-02,  4.21458371e-02,  1.23751573e-02,\n",
       "       -3.65347276e-03,  3.08188256e-02, -1.03075495e-02,  2.85930950e-02,\n",
       "       -8.35702568e-03, -4.27555032e-02, -2.98026055e-02,  2.32085641e-02,\n",
       "        5.56550175e-03,  4.12163511e-03,  2.00359300e-02, -2.81127784e-02,\n",
       "       -4.43501957e-03, -3.11050508e-02, -6.01385348e-03, -1.74648259e-02,\n",
       "       -3.40292230e-03, -2.09684614e-02, -9.39764641e-03,  6.31698733e-03,\n",
       "       -3.21249105e-02, -8.89485404e-02, -1.58771165e-02, -4.76173200e-02,\n",
       "        5.09043643e-03, -1.36541929e-02,  4.58437484e-03, -5.09575158e-02,\n",
       "       -1.03144012e-02, -2.94508506e-02,  6.02838695e-02, -4.16151211e-02,\n",
       "       -4.26713936e-02,  3.56458835e-02, -3.62242050e-02,  3.02803144e-02,\n",
       "        2.15954557e-02, -5.11775725e-02,  2.92623416e-02,  4.90405634e-02,\n",
       "        1.55477887e-02, -1.03063034e-02,  1.92387812e-02,  4.66709323e-02,\n",
       "        2.64436956e-02, -2.40769077e-04, -1.66545641e-02,  6.11789040e-02,\n",
       "        4.56803814e-02, -2.30065584e-02, -1.84828881e-02,  3.90850268e-02,\n",
       "        2.20447760e-02, -6.04996718e-02,  1.28217312e-02, -4.78773229e-02,\n",
       "        7.68874139e-02, -3.39901187e-02, -4.26168814e-02,  1.43980030e-02,\n",
       "       -3.98378931e-02, -2.10253075e-02,  5.45171127e-02,  3.93374301e-02,\n",
       "       -1.18560111e-02,  5.61691299e-02, -4.60756198e-02, -4.13384056e-03,\n",
       "       -4.36037779e-02, -5.09982510e-03,  5.30042723e-02, -1.33258030e-02,\n",
       "       -2.80254241e-02,  7.58802891e-02,  2.33290680e-02, -1.49006164e-03,\n",
       "       -4.98325862e-02, -5.87215424e-02, -1.14237042e-02,  5.11406623e-02,\n",
       "        1.71375424e-02,  3.20018791e-02, -5.32292053e-02, -1.05543450e-01,\n",
       "        1.71536598e-02,  6.51438981e-02, -8.50769132e-03, -1.73582640e-02,\n",
       "       -2.40768702e-03, -6.35953695e-02, -2.19710730e-02,  3.15685086e-02,\n",
       "        2.83923140e-03,  6.81705866e-03,  5.67811802e-02,  2.38730498e-02,\n",
       "       -3.00961155e-02,  2.57656630e-02,  1.26267048e-02,  1.26193604e-02,\n",
       "        2.44642347e-02,  9.01349762e-04,  2.21388880e-02,  1.99100636e-02,\n",
       "       -6.51145503e-02, -9.04939137e-03, -8.78763422e-02, -7.89188314e-03,\n",
       "        2.40602461e-03, -3.78606236e-03, -1.03840744e-02,  1.29396571e-02,\n",
       "       -5.36629185e-02, -7.94711933e-02,  1.48241827e-03,  5.87166287e-02,\n",
       "       -5.21727726e-02,  1.00136129e-02,  1.05579682e-02, -2.84016877e-02,\n",
       "        4.43782806e-02,  5.54943867e-02, -2.28315853e-02,  5.49017191e-02,\n",
       "       -4.83498815e-03, -1.37660773e-02, -3.63524929e-02,  3.31501886e-02,\n",
       "        1.75656471e-02, -4.61300649e-02,  1.02895766e-03, -3.01615125e-03,\n",
       "       -1.70186546e-03,  1.08544659e-02,  3.79774943e-02,  5.34419157e-03,\n",
       "       -2.16594357e-02,  6.43643886e-02, -6.90775318e-03, -5.67638353e-02,\n",
       "        6.35225847e-02,  2.43134871e-02,  6.08441606e-02, -2.80913506e-02,\n",
       "       -1.57371778e-02, -8.80837627e-03, -6.70245755e-03,  3.05185607e-03,\n",
       "       -7.00678155e-02, -1.66900977e-02, -2.18809545e-02,  2.25350372e-02,\n",
       "       -2.62320600e-02, -6.02359287e-02, -3.05405050e-03, -4.02258188e-02,\n",
       "        7.80440355e-03, -2.36123111e-02,  5.34042753e-02, -2.81629544e-02,\n",
       "       -1.58161987e-02, -4.17216718e-02,  4.96840179e-02, -6.97905719e-02,\n",
       "       -2.89569469e-03,  3.20062004e-02,  7.62430066e-03,  1.30792456e-02,\n",
       "       -6.55768737e-02, -5.10144420e-03,  5.71157634e-02,  2.80752089e-02,\n",
       "       -5.32438606e-03, -1.07790693e-03, -5.13443910e-03,  2.45666131e-02,\n",
       "       -5.32872276e-03, -2.46970635e-02, -1.79881603e-02,  4.82439675e-04,\n",
       "        4.77590272e-03,  2.48035789e-02,  3.16266827e-02,  1.57778971e-02,\n",
       "       -4.43430319e-02, -8.61922428e-02, -3.80277187e-02, -6.36414662e-02,\n",
       "        5.36658987e-03,  5.55837527e-02,  4.80456464e-02, -2.16625142e-03,\n",
       "        1.60390139e-02,  3.90921161e-03,  2.49510612e-02, -5.06345816e-02,\n",
       "        5.07381093e-03, -3.16455564e-03, -1.32685583e-02,  4.68505919e-02,\n",
       "       -3.85844335e-02, -4.96865399e-02, -7.73450807e-02,  3.60871553e-02,\n",
       "       -7.78906792e-03,  3.86090614e-02, -3.00622378e-02, -4.85584028e-02,\n",
       "       -6.27907598e-03, -2.94492226e-02,  5.02332039e-02,  4.08620462e-02,\n",
       "        1.78645421e-02, -8.09466653e-03, -5.84817603e-02,  2.21997011e-03,\n",
       "        3.20220739e-02,  3.53930183e-02,  9.86921508e-03,  2.96814181e-02,\n",
       "       -1.77479684e-02, -1.19712548e-02,  6.89882506e-03,  5.85308708e-02,\n",
       "       -4.13095132e-02, -1.74526274e-02,  1.24492021e-02, -5.64593867e-33,\n",
       "       -2.16244403e-02,  1.74923372e-02, -1.82329360e-02, -3.20981443e-02,\n",
       "       -1.22185968e-01, -1.24123804e-01, -1.52059598e-02,  1.25770485e-02,\n",
       "       -4.08464670e-02, -6.97185611e-03,  6.74734917e-03,  2.00678781e-02,\n",
       "        3.85117135e-03, -1.49082951e-02,  8.01603496e-02, -1.33881010e-02,\n",
       "       -1.32932095e-02,  5.42631885e-03,  3.15886252e-02,  1.53791262e-02,\n",
       "        3.73337343e-02,  4.27001379e-02,  4.09737788e-02, -2.74543315e-02,\n",
       "        3.37143289e-03,  3.76218301e-03,  1.69358007e-03, -5.42693064e-02,\n",
       "        4.78731059e-02, -9.87222418e-03, -6.29114080e-03, -1.49864489e-02,\n",
       "        9.48676374e-03, -2.53543332e-02, -6.59476360e-03, -3.52815585e-03,\n",
       "        2.08359454e-02,  1.10315634e-02,  1.30051048e-02,  1.61534697e-02,\n",
       "       -4.46257219e-02, -3.85299362e-02, -2.23705415e-02, -2.53387392e-02,\n",
       "        1.47761393e-03, -1.12015642e-02,  6.34239241e-03,  3.93974334e-02,\n",
       "       -2.05939505e-02, -2.89016385e-02, -1.29407924e-02, -2.90545672e-02,\n",
       "       -4.73384894e-02, -8.07001721e-03, -6.84543177e-02,  2.51760031e-03,\n",
       "        2.84383968e-02,  9.64052789e-03,  2.99417041e-02,  5.74576594e-02,\n",
       "       -1.00407396e-02, -5.28383851e-02, -7.16857314e-02, -4.09130827e-02,\n",
       "        2.43131593e-02,  9.98808723e-03, -1.91170312e-02,  2.77588051e-02,\n",
       "        2.52008550e-02, -3.68306078e-02,  1.14680482e-02,  9.11590643e-03,\n",
       "        1.00559415e-02,  3.47956195e-02, -4.06229198e-02, -6.74135238e-02,\n",
       "        2.39218008e-02, -9.17702913e-03, -6.16045436e-03, -3.78014073e-02,\n",
       "       -1.58957299e-02, -1.28290066e-02,  1.06545817e-02, -1.65179223e-02,\n",
       "        1.99283450e-03, -6.20844923e-02, -2.74259853e-03,  5.82750589e-02,\n",
       "       -1.97239257e-02, -1.68407857e-02, -1.03544118e-02,  1.19387060e-02,\n",
       "        4.38133776e-02, -1.12414733e-02,  3.43583338e-02,  5.79492263e-02,\n",
       "        1.57360884e-03,  2.64401808e-02,  1.62115637e-02, -1.98410489e-02,\n",
       "       -2.00787634e-02, -1.90250073e-02, -7.69003993e-03,  1.51835056e-02,\n",
       "        2.14177351e-02, -1.80621706e-02, -1.21888444e-02, -7.63603300e-02,\n",
       "       -2.49797441e-02,  1.50111811e-02, -9.49784461e-03,  2.79678684e-02,\n",
       "        2.50365306e-02, -5.29052550e-03, -4.42415886e-02, -8.10211338e-03,\n",
       "        1.08169448e-02, -1.23490561e-02, -4.27597528e-03, -1.11508910e-02,\n",
       "        1.38994688e-02,  5.29579185e-02,  5.93649000e-02,  4.32339050e-02,\n",
       "       -2.49979589e-02,  6.13606302e-04, -1.40987355e-02, -2.99697239e-02,\n",
       "        4.08431664e-02, -8.17675740e-02, -4.79557402e-02, -2.73804292e-02,\n",
       "        2.83622882e-07, -1.83482934e-02, -2.50289552e-02, -6.17007166e-03,\n",
       "        4.66710813e-02, -1.31633319e-02,  7.82042816e-02,  1.54188266e-02,\n",
       "        4.82535064e-02, -4.04941067e-02,  6.82598129e-02, -7.21619654e-05,\n",
       "       -6.51048869e-02, -1.03762345e-02,  1.81646440e-02,  3.75933163e-02,\n",
       "        1.69760603e-02, -5.63558936e-02, -2.95530800e-02, -5.07473946e-02,\n",
       "       -1.12370879e-03,  1.73142459e-02,  2.38075387e-02,  4.05512750e-03,\n",
       "        2.73451861e-02,  1.93894990e-02, -9.56391077e-03, -5.00744507e-02,\n",
       "        1.04675340e-02, -2.31225938e-02,  8.72705970e-03,  3.26939188e-02,\n",
       "       -5.46886679e-03, -2.51072478e-02,  8.25592503e-03, -2.11182516e-02,\n",
       "       -5.08088991e-02, -1.93809047e-02, -1.73534080e-02,  3.10871173e-02,\n",
       "       -4.85187247e-02,  1.13769248e-02,  3.91275771e-02, -2.72177123e-02,\n",
       "       -3.63509692e-02,  1.78387612e-02,  2.35356428e-02, -2.33262964e-02,\n",
       "        3.71831656e-02, -2.56566573e-02,  7.65968533e-03,  3.12577002e-02,\n",
       "        3.51233035e-02, -9.41603619e-04, -1.28052349e-03,  3.38565595e-02,\n",
       "       -3.89431268e-02,  5.73288016e-02,  1.19705983e-02,  4.16848995e-02,\n",
       "        9.97228995e-02,  4.37005311e-02, -4.26669903e-02, -1.57507714e-02,\n",
       "        1.00187048e-01,  2.17931904e-02, -5.04674390e-02,  1.84632726e-02,\n",
       "        1.92662399e-34,  3.03585306e-02, -4.55816463e-02, -9.64063965e-03,\n",
       "       -4.45224419e-02,  8.45464040e-03, -2.22235750e-02, -5.37889414e-02,\n",
       "       -2.27782555e-04, -1.62822404e-03,  5.00083640e-02, -4.50982749e-02],\n",
       "      dtype=float32)"
      ]
     },
     "execution_count": 74,
     "metadata": {},
     "output_type": "execute_result"
    }
   ],
   "source": [
    "embeddings[1]"
   ]
  },
  {
   "cell_type": "code",
   "execution_count": 72,
   "id": "06b12ac7",
   "metadata": {},
   "outputs": [
    {
     "data": {
      "text/plain": [
       "(768,)"
      ]
     },
     "execution_count": 72,
     "metadata": {},
     "output_type": "execute_result"
    }
   ],
   "source": [
    "embeddings[1].shape"
   ]
  },
  {
   "cell_type": "code",
   "execution_count": 75,
   "id": "01633ff0",
   "metadata": {},
   "outputs": [],
   "source": [
    "np.save(\"embeddings/embeddings.npy\", embeddings)"
   ]
  },
  {
   "cell_type": "code",
   "execution_count": 84,
   "id": "b587a0bc",
   "metadata": {},
   "outputs": [],
   "source": [
    "np.save(\"embeddings/chunks.npy\", np.array(chunks, dtype=object))"
   ]
  },
  {
   "cell_type": "code",
   "execution_count": 13,
   "id": "35a5c571",
   "metadata": {},
   "outputs": [],
   "source": [
    "import chromadb\n",
    "from chromadb.utils import embedding_functions"
   ]
  },
  {
   "cell_type": "code",
   "execution_count": 17,
   "id": "e34ef12e",
   "metadata": {},
   "outputs": [],
   "source": [
    "client = chromadb.PersistentClient(path = \"vector_db\")"
   ]
  },
  {
   "cell_type": "code",
   "execution_count": 18,
   "id": "1b123d92",
   "metadata": {},
   "outputs": [],
   "source": [
    "collection = client.get_or_create_collection(name = \"vector_collection\")"
   ]
  },
  {
   "cell_type": "code",
   "execution_count": null,
   "id": "7861f654",
   "metadata": {},
   "outputs": [],
   "source": [
    "collection.add(\n",
    "    ids = [f\"chunk_{i}\" for i in range(len(chunks))],\n",
    "    documents = chunks,\n",
    "    embeddings = embeddings.tolist()\n",
    ")"
   ]
  },
  {
   "cell_type": "code",
   "execution_count": 90,
   "id": "976afd94",
   "metadata": {},
   "outputs": [],
   "source": [
    "test_query = 'Did Nietzsche believe in God?'\n",
    "embedded_test_query = model.encode(test_query).tolist()"
   ]
  },
  {
   "cell_type": "code",
   "execution_count": null,
   "id": "1b99562b",
   "metadata": {},
   "outputs": [],
   "source": [
    "results = collection.query(\n",
    "    query_embeddings = [embedded_test_query],\n",
    "    n_results = 3\n",
    ")"
   ]
  },
  {
   "cell_type": "code",
   "execution_count": null,
   "id": "92d8ff73",
   "metadata": {},
   "outputs": [
    {
     "data": {
      "text/plain": [
       "{'ids': [['chunk_1220', 'chunk_1416', 'chunk_566']],\n",
       " 'embeddings': None,\n",
       " 'documents': [['. His dreams were thoroughly Hellenic; his whole manner of thinking was Hellenic; his peculiar errors were Hellenic no less. But his Hellenism, I need not add, was anything but the pale neo-Platonism that has run like a thread through the thinking of the Western world since the days of the Christian Fathers. From Plato, to be sure, he got what all of us must get, but his real forefather was Heraclitus. It is in Heraclitus that one finds the germ of his primary view of the universe—a view, to wit, that sees it, not as moral phenomenon, but as mere aesthetic representation. The God that Nietzsche imagined, in the end, was not far from the God that such an artist as Joseph Conrad imagines—a supreme craftsman, ever experimenting, ever coming closer to an ideal balancing of lines and forces, and yet always failing to work out the final harmony',\n",
       "   '. God as a domestic servant, as a letter carrier, as an almanac-man—at bottom, he is a mere name for the stupidest sort of chance.... “Divine Prov idence,” which every third man in “educated Germany” still believes in, is so strong an argument against God that it would be impossible to think of a stronger. And in any case it is an argument against Germans!... [24] That is, to say, scepticism. Among the Greeks scepticism was also occasionally called ephecticism. [25] A reference to the University of Tübingen and its famous school of Biblical criticism. The leader of this school was F. C. Baur, and one of the men greatly influenced by it was Nietzsche’s pet abomination, David F. Strauss, himself a Suabian. Vide § 10 and § 28. 53. —It is so little true that martyrs offer any support to the truth of a cause that I am inclined to deny that any martyr has ever had anything to do with the truth at all',\n",
       "   '.... Not only his words, but he himself is other than they. \"Alone do I now go, my disciples! Get ye also hence, and alone! Thus would I have it. \"Verily, I beseech you: take your leave of me and arm yourselves against Zarathustra! And better still, be ashamed of him! Maybe he hath deceived you. \"The knight of knowledge must be able not only to love his enemies, but also to hate his friends. \"The man who remaineth a pupil requiteth his teacher but ill. And why would ye not pluck at my wreath? \"Ye honour me; but what if your reverence should one day break down? Take heed, lest a statue crush you. \"Ye say ye believe in Zarathustra? But of; what account is Zarathustra? Ye are my believers: but of what account are all believers? \"Ye had not yet sought yourselves when ye found me. Thus do all believers; therefore is all believing worth so little. \"Now I bid you lose me and find yourselves; and only when ye have all denied me will I come back unto you.\" FRIEDRICH NIETZSCHE']],\n",
       " 'uris': None,\n",
       " 'included': ['metadatas', 'documents', 'distances'],\n",
       " 'data': None,\n",
       " 'metadatas': [[None, None, None]],\n",
       " 'distances': [[0.7726765871047974, 0.8890222311019897, 0.9159826040267944]]}"
      ]
     },
     "execution_count": 93,
     "metadata": {},
     "output_type": "execute_result"
    }
   ],
   "source": [
    "results"
   ]
  },
  {
   "cell_type": "code",
   "execution_count": 99,
   "id": "d147a361",
   "metadata": {},
   "outputs": [
    {
     "data": {
      "text/plain": [
       "[['. His dreams were thoroughly Hellenic; his whole manner of thinking was Hellenic; his peculiar errors were Hellenic no less. But his Hellenism, I need not add, was anything but the pale neo-Platonism that has run like a thread through the thinking of the Western world since the days of the Christian Fathers. From Plato, to be sure, he got what all of us must get, but his real forefather was Heraclitus. It is in Heraclitus that one finds the germ of his primary view of the universe—a view, to wit, that sees it, not as moral phenomenon, but as mere aesthetic representation. The God that Nietzsche imagined, in the end, was not far from the God that such an artist as Joseph Conrad imagines—a supreme craftsman, ever experimenting, ever coming closer to an ideal balancing of lines and forces, and yet always failing to work out the final harmony',\n",
       "  '. God as a domestic servant, as a letter carrier, as an almanac-man—at bottom, he is a mere name for the stupidest sort of chance.... “Divine Prov idence,” which every third man in “educated Germany” still believes in, is so strong an argument against God that it would be impossible to think of a stronger. And in any case it is an argument against Germans!... [24] That is, to say, scepticism. Among the Greeks scepticism was also occasionally called ephecticism. [25] A reference to the University of Tübingen and its famous school of Biblical criticism. The leader of this school was F. C. Baur, and one of the men greatly influenced by it was Nietzsche’s pet abomination, David F. Strauss, himself a Suabian. Vide § 10 and § 28. 53. —It is so little true that martyrs offer any support to the truth of a cause that I am inclined to deny that any martyr has ever had anything to do with the truth at all',\n",
       "  '.... Not only his words, but he himself is other than they. \"Alone do I now go, my disciples! Get ye also hence, and alone! Thus would I have it. \"Verily, I beseech you: take your leave of me and arm yourselves against Zarathustra! And better still, be ashamed of him! Maybe he hath deceived you. \"The knight of knowledge must be able not only to love his enemies, but also to hate his friends. \"The man who remaineth a pupil requiteth his teacher but ill. And why would ye not pluck at my wreath? \"Ye honour me; but what if your reverence should one day break down? Take heed, lest a statue crush you. \"Ye say ye believe in Zarathustra? But of; what account is Zarathustra? Ye are my believers: but of what account are all believers? \"Ye had not yet sought yourselves when ye found me. Thus do all believers; therefore is all believing worth so little. \"Now I bid you lose me and find yourselves; and only when ye have all denied me will I come back unto you.\" FRIEDRICH NIETZSCHE']]"
      ]
     },
     "execution_count": 99,
     "metadata": {},
     "output_type": "execute_result"
    }
   ],
   "source": [
    "results['documents']"
   ]
  },
  {
   "cell_type": "code",
   "execution_count": 23,
   "id": "38f58ca9",
   "metadata": {},
   "outputs": [],
   "source": [
    "import requests\n",
    "import json"
   ]
  },
  {
   "cell_type": "code",
   "execution_count": null,
   "id": "60e33601",
   "metadata": {},
   "outputs": [],
   "source": [
    "# Load the embeddings and chunks everytime you comeback.\n",
    "embeddings = np.load(\"embeddings/embeddings.npy\", allow_pickle=True)\n",
    "chunks = np.load(\"embeddings/chunks.npy\", allow_pickle=True)"
   ]
  },
  {
   "cell_type": "code",
   "execution_count": null,
   "id": "8d2a9a7f",
   "metadata": {},
   "outputs": [],
   "source": [
    "def ask_nietzsche(question, top_k = 3):\n",
    "    \n",
    "    embedded_question = model.encode(question).tolist()\n",
    "    \n",
    "    results = collection.query(\n",
    "        query_embeddings = [embedded_question],\n",
    "        n_results = top_k\n",
    "    )\n",
    "    \n",
    "    retrieved_text = \"\\n\\n\".join(results['documents'][0])\n",
    "    \n",
    "    prompt = f\"\"\"\n",
    "    Answer the following question as if you are Nietzsche strictly based on the context below. Give the answer in a extremely concise and accurate way.\n",
    "    Context:\n",
    "    {retrieved_text}\n",
    "    \n",
    "    Question:\n",
    "    {question}\n",
    "    \"\"\"\n",
    "    \n",
    "    url = \"http://localhost:11434/api/generate\"\n",
    "    payload = {\n",
    "        'model' : 'phi3',\n",
    "        'prompt' : prompt,\n",
    "        'max_tokens' : 512\n",
    "    }\n",
    "    \n",
    "    response = requests.post(url, json = payload)\n",
    "    \n",
    "    lines = response.text.strip().split(\"\\n\")  # split the streaming JSON lines\n",
    "\n",
    "    # reconstruct full response\n",
    "    full_text = \"\"\n",
    "    for line in lines:\n",
    "        try:\n",
    "            data = json.loads(line)\n",
    "            if \"response\" in data and data[\"response\"]:\n",
    "                full_text += data[\"response\"]\n",
    "        except json.JSONDecodeError:\n",
    "            pass  # ignore any malformed lines\n",
    "\n",
    "    return full_text"
   ]
  },
  {
   "cell_type": "code",
   "execution_count": 26,
   "id": "cc4975c3",
   "metadata": {},
   "outputs": [
    {
     "data": {
      "text/plain": [
       "'The main theme in Nietzsche\\'s works revolves around individualism and personal experience as a source of knowledge. He emphasizes self-reliance over traditional moral values, which he deems to be baseless \"idols.\" His writing often explores the idea that societal norms can stifle human potential for greatness. Nietzsche encourages readers to critically examine and possibly reject conventional morality in favor of creating their own life-affirming principles.'"
      ]
     },
     "execution_count": 26,
     "metadata": {},
     "output_type": "execute_result"
    }
   ],
   "source": [
    "ask_nietzsche('What is the main theme in Nietzsche\\'s works?')"
   ]
  }
 ],
 "metadata": {
  "kernelspec": {
   "display_name": "Python 3",
   "language": "python",
   "name": "python3"
  },
  "language_info": {
   "codemirror_mode": {
    "name": "ipython",
    "version": 3
   },
   "file_extension": ".py",
   "mimetype": "text/x-python",
   "name": "python",
   "nbconvert_exporter": "python",
   "pygments_lexer": "ipython3",
   "version": "3.10.11"
  }
 },
 "nbformat": 4,
 "nbformat_minor": 5
}
